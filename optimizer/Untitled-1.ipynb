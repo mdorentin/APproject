{
 "cells": [
  {
   "cell_type": "code",
   "execution_count": 2,
   "metadata": {},
   "outputs": [],
   "source": [
    "import pandas as pd\n",
    "\n",
    "data_df = pd.read_csv('data3.csv')\n"
   ]
  },
  {
   "cell_type": "code",
   "execution_count": 19,
   "metadata": {},
   "outputs": [
    {
     "data": {
      "text/plain": [
       "['AAPL', 'MSFT', 'COST', 'IBM']"
      ]
     },
     "execution_count": 19,
     "metadata": {},
     "output_type": "execute_result"
    }
   ],
   "source": [
    "stocks = ['AAPL', 'MSFT', 'COST', 'IBM']\n",
    "stocks"
   ]
  },
  {
   "cell_type": "code",
   "execution_count": 20,
   "metadata": {},
   "outputs": [
    {
     "data": {
      "text/plain": [
       "['MSFT', 'COST', 'AAPL', 'IBM']"
      ]
     },
     "execution_count": 20,
     "metadata": {},
     "output_type": "execute_result"
    }
   ],
   "source": [
    "stocks = list(set(stocks))\n",
    "stocks\n"
   ]
  },
  {
   "cell_type": "code",
   "execution_count": 23,
   "metadata": {},
   "outputs": [
    {
     "data": {
      "text/html": [
       "<div>\n",
       "<style scoped>\n",
       "    .dataframe tbody tr th:only-of-type {\n",
       "        vertical-align: middle;\n",
       "    }\n",
       "\n",
       "    .dataframe tbody tr th {\n",
       "        vertical-align: top;\n",
       "    }\n",
       "\n",
       "    .dataframe thead th {\n",
       "        text-align: right;\n",
       "    }\n",
       "</style>\n",
       "<table border=\"1\" class=\"dataframe\">\n",
       "  <thead>\n",
       "    <tr style=\"text-align: right;\">\n",
       "      <th></th>\n",
       "      <th>company name</th>\n",
       "      <th>sector</th>\n",
       "      <th>start</th>\n",
       "      <th>end</th>\n",
       "    </tr>\n",
       "    <tr>\n",
       "      <th>ticker</th>\n",
       "      <th></th>\n",
       "      <th></th>\n",
       "      <th></th>\n",
       "      <th></th>\n",
       "    </tr>\n",
       "  </thead>\n",
       "  <tbody>\n",
       "    <tr>\n",
       "      <th>A</th>\n",
       "      <td>Agilent Technologies Inc.</td>\n",
       "      <td>Healthcare</td>\n",
       "      <td>1999-11-18</td>\n",
       "      <td>2024-04-25</td>\n",
       "    </tr>\n",
       "    <tr>\n",
       "      <th>AA</th>\n",
       "      <td>Alcoa Corporation</td>\n",
       "      <td>Basic Materials</td>\n",
       "      <td>1962-01-02</td>\n",
       "      <td>2024-04-25</td>\n",
       "    </tr>\n",
       "    <tr>\n",
       "      <th>AADR</th>\n",
       "      <td>AdvisorShares Dorsey Wright ADR</td>\n",
       "      <td>Other</td>\n",
       "      <td>2010-07-21</td>\n",
       "      <td>2024-04-25</td>\n",
       "    </tr>\n",
       "    <tr>\n",
       "      <th>AAL</th>\n",
       "      <td>American Airlines Group Inc.</td>\n",
       "      <td>Industrials</td>\n",
       "      <td>2005-09-27</td>\n",
       "      <td>2024-04-25</td>\n",
       "    </tr>\n",
       "    <tr>\n",
       "      <th>AAMC</th>\n",
       "      <td>Altisource Asset Management Corp Com</td>\n",
       "      <td>Financial Services</td>\n",
       "      <td>2022-03-21</td>\n",
       "      <td>2024-04-25</td>\n",
       "    </tr>\n",
       "    <tr>\n",
       "      <th>...</th>\n",
       "      <td>...</td>\n",
       "      <td>...</td>\n",
       "      <td>...</td>\n",
       "      <td>...</td>\n",
       "    </tr>\n",
       "    <tr>\n",
       "      <th>ZTR</th>\n",
       "      <td>Virtus Global Dividend &amp; Income Fund Inc.</td>\n",
       "      <td>Financial Services</td>\n",
       "      <td>1988-09-26</td>\n",
       "      <td>2024-04-25</td>\n",
       "    </tr>\n",
       "    <tr>\n",
       "      <th>ZTS</th>\n",
       "      <td>Zoetis Inc. Class A</td>\n",
       "      <td>Healthcare</td>\n",
       "      <td>2013-02-01</td>\n",
       "      <td>2024-04-25</td>\n",
       "    </tr>\n",
       "    <tr>\n",
       "      <th>ZUMZ</th>\n",
       "      <td>Zumiez Inc.</td>\n",
       "      <td>Consumer Cyclical</td>\n",
       "      <td>2005-05-06</td>\n",
       "      <td>2024-04-25</td>\n",
       "    </tr>\n",
       "    <tr>\n",
       "      <th>ZUO</th>\n",
       "      <td>Zuora Inc. Class A</td>\n",
       "      <td>Technology</td>\n",
       "      <td>2018-04-12</td>\n",
       "      <td>2024-04-25</td>\n",
       "    </tr>\n",
       "    <tr>\n",
       "      <th>ZYME</th>\n",
       "      <td>Zymeworks Inc.</td>\n",
       "      <td>Healthcare</td>\n",
       "      <td>2017-04-28</td>\n",
       "      <td>2024-04-25</td>\n",
       "    </tr>\n",
       "  </tbody>\n",
       "</table>\n",
       "<p>4455 rows × 4 columns</p>\n",
       "</div>"
      ],
      "text/plain": [
       "                                     company name              sector  \\\n",
       "ticker                                                                  \n",
       "A                       Agilent Technologies Inc.          Healthcare   \n",
       "AA                              Alcoa Corporation     Basic Materials   \n",
       "AADR              AdvisorShares Dorsey Wright ADR               Other   \n",
       "AAL                  American Airlines Group Inc.         Industrials   \n",
       "AAMC         Altisource Asset Management Corp Com  Financial Services   \n",
       "...                                           ...                 ...   \n",
       "ZTR     Virtus Global Dividend & Income Fund Inc.  Financial Services   \n",
       "ZTS                           Zoetis Inc. Class A          Healthcare   \n",
       "ZUMZ                                  Zumiez Inc.   Consumer Cyclical   \n",
       "ZUO                            Zuora Inc. Class A          Technology   \n",
       "ZYME                               Zymeworks Inc.          Healthcare   \n",
       "\n",
       "             start         end  \n",
       "ticker                          \n",
       "A       1999-11-18  2024-04-25  \n",
       "AA      1962-01-02  2024-04-25  \n",
       "AADR    2010-07-21  2024-04-25  \n",
       "AAL     2005-09-27  2024-04-25  \n",
       "AAMC    2022-03-21  2024-04-25  \n",
       "...            ...         ...  \n",
       "ZTR     1988-09-26  2024-04-25  \n",
       "ZTS     2013-02-01  2024-04-25  \n",
       "ZUMZ    2005-05-06  2024-04-25  \n",
       "ZUO     2018-04-12  2024-04-25  \n",
       "ZYME    2017-04-28  2024-04-25  \n",
       "\n",
       "[4455 rows x 4 columns]"
      ]
     },
     "execution_count": 23,
     "metadata": {},
     "output_type": "execute_result"
    }
   ],
   "source": [
    "data_df.set_index('ticker')"
   ]
  }
 ],
 "metadata": {
  "kernelspec": {
   "display_name": "base",
   "language": "python",
   "name": "python3"
  },
  "language_info": {
   "codemirror_mode": {
    "name": "ipython",
    "version": 3
   },
   "file_extension": ".py",
   "mimetype": "text/x-python",
   "name": "python",
   "nbconvert_exporter": "python",
   "pygments_lexer": "ipython3",
   "version": "3.11.4"
  }
 },
 "nbformat": 4,
 "nbformat_minor": 2
}
